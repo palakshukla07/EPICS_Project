{
 "cells": [
  {
   "cell_type": "code",
   "execution_count": 1,
   "id": "c568c073-878f-4cf7-aea9-f2d3fc8de16e",
   "metadata": {},
   "outputs": [],
   "source": [
    "import pandas as pd"
   ]
  },
  {
   "cell_type": "code",
   "execution_count": 2,
   "id": "182dddd4-5a80-484f-9be4-cc6e8371232a",
   "metadata": {},
   "outputs": [],
   "source": [
    "file_path = \"Medicine_description.csv\""
   ]
  },
  {
   "cell_type": "code",
   "execution_count": 3,
   "id": "04de161c-0ced-4137-955b-45341dbcfe34",
   "metadata": {},
   "outputs": [],
   "source": [
    "df = pd.read_csv(file_path)"
   ]
  },
  {
   "cell_type": "code",
   "execution_count": 4,
   "id": "877de0a7-73f6-4041-ac26-e94f4b5895d6",
   "metadata": {},
   "outputs": [
    {
     "name": "stdout",
     "output_type": "stream",
     "text": [
      "<class 'pandas.core.frame.DataFrame'>\n",
      "RangeIndex: 22481 entries, 0 to 22480\n",
      "Data columns (total 3 columns):\n",
      " #   Column       Non-Null Count  Dtype \n",
      "---  ------       --------------  ----- \n",
      " 0   Drug_Name    22481 non-null  object\n",
      " 1   Reason       22481 non-null  object\n",
      " 2   Description  22467 non-null  object\n",
      "dtypes: object(3)\n",
      "memory usage: 527.0+ KB\n"
     ]
    },
    {
     "data": {
      "text/plain": [
       "(None,\n",
       "                                            Drug_Name Reason  \\\n",
       " 0               A CN Gel(Topical) 20gmA CN Soap 75gm   Acne   \n",
       " 1  A Ret 0.05% Gel 20gmA Ret 0.1% Gel 20gmA Ret 0...   Acne   \n",
       " 2                             ACGEL CL NANO Gel 15gm   Acne   \n",
       " 3                                ACGEL NANO Gel 15gm   Acne   \n",
       " 4                              Acleen 1% Lotion 25ml   Acne   \n",
       " \n",
       "                                          Description  \n",
       " 0                      Mild to moderate acne (spots)  \n",
       " 1  A RET 0.025% is a prescription medicine that i...  \n",
       " 2  It is used to treat acne vulgaris in people 12...  \n",
       " 3  It is used to treat acne vulgaris in people 12...  \n",
       " 4  treat the most severe form of acne (nodular ac...  )"
      ]
     },
     "execution_count": 4,
     "metadata": {},
     "output_type": "execute_result"
    }
   ],
   "source": [
    "df.info(), df.head()"
   ]
  },
  {
   "cell_type": "code",
   "execution_count": 5,
   "id": "538b55fc-7b9b-4118-a56c-6fb959b0ae1e",
   "metadata": {},
   "outputs": [],
   "source": [
    "# Data Cleaning\n",
    "df.drop_duplicates(inplace=True)  \n",
    "df.dropna(subset=[\"Description\"], inplace=True) "
   ]
  },
  {
   "cell_type": "code",
   "execution_count": 6,
   "id": "369cb002-140d-4a88-997e-811d0401850a",
   "metadata": {},
   "outputs": [],
   "source": [
    "# Convert text to lowercase for consistency\n",
    "df[\"Drug_Name\"] = df[\"Drug_Name\"].str.lower().str.strip()\n",
    "df[\"Reason\"] = df[\"Reason\"].str.lower().str.strip()\n",
    "df[\"Description\"] = df[\"Description\"].str.lower().str.strip()"
   ]
  },
  {
   "cell_type": "code",
   "execution_count": 7,
   "id": "467e3ef0-7a95-4404-a4b7-b793eddd7785",
   "metadata": {},
   "outputs": [
    {
     "name": "stdout",
     "output_type": "stream",
     "text": [
      "<class 'pandas.core.frame.DataFrame'>\n",
      "Index: 22467 entries, 0 to 22480\n",
      "Data columns (total 3 columns):\n",
      " #   Column       Non-Null Count  Dtype \n",
      "---  ------       --------------  ----- \n",
      " 0   Drug_Name    22467 non-null  object\n",
      " 1   Reason       22467 non-null  object\n",
      " 2   Description  22467 non-null  object\n",
      "dtypes: object(3)\n",
      "memory usage: 702.1+ KB\n"
     ]
    },
    {
     "data": {
      "text/plain": [
       "(None,\n",
       "                                            Drug_Name Reason  \\\n",
       " 0               a cn gel(topical) 20gma cn soap 75gm   acne   \n",
       " 1  a ret 0.05% gel 20gma ret 0.1% gel 20gma ret 0...   acne   \n",
       " 2                             acgel cl nano gel 15gm   acne   \n",
       " 3                                acgel nano gel 15gm   acne   \n",
       " 4                              acleen 1% lotion 25ml   acne   \n",
       " \n",
       "                                          Description  \n",
       " 0                      mild to moderate acne (spots)  \n",
       " 1  a ret 0.025% is a prescription medicine that i...  \n",
       " 2  it is used to treat acne vulgaris in people 12...  \n",
       " 3  it is used to treat acne vulgaris in people 12...  \n",
       " 4  treat the most severe form of acne (nodular acne)  )"
      ]
     },
     "execution_count": 7,
     "metadata": {},
     "output_type": "execute_result"
    }
   ],
   "source": [
    "# Checking the cleaned dataset\n",
    "df.info(), df.head()"
   ]
  },
  {
   "cell_type": "code",
   "execution_count": 8,
   "id": "bb2bf205-d6fa-47b9-a431-5b3166ecaeba",
   "metadata": {},
   "outputs": [],
   "source": [
    "from sklearn.model_selection import train_test_split\n",
    "from sklearn.feature_extraction.text import TfidfVectorizer\n",
    "from sklearn.preprocessing import LabelEncoder"
   ]
  },
  {
   "cell_type": "code",
   "execution_count": 9,
   "id": "0df0132e-9fa1-4aa1-8052-78c569c84f5b",
   "metadata": {},
   "outputs": [],
   "source": [
    "# Encode the target variable (Reason) as it is categorical\n",
    "label_encoder = LabelEncoder()\n",
    "df[\"Reason_Encoded\"] = label_encoder.fit_transform(df[\"Reason\"])"
   ]
  },
  {
   "cell_type": "code",
   "execution_count": 10,
   "id": "0d4ad09b-cdc7-45a6-b748-637cbb045aa3",
   "metadata": {},
   "outputs": [],
   "source": [
    "# Convert text data into numerical features using TF-IDF\n",
    "vectorizer = TfidfVectorizer(max_features=5000)\n",
    "X = vectorizer.fit_transform(df[\"Description\"]).toarray()\n",
    "y = df[\"Reason_Encoded\"]"
   ]
  },
  {
   "cell_type": "code",
   "execution_count": 11,
   "id": "f612ab25-62a3-494f-8824-9651e23ef093",
   "metadata": {},
   "outputs": [],
   "source": [
    "X_train, X_test, y_train, y_test = train_test_split(X, y, test_size=0.2, random_state=42)\n",
    "# Split the dataset into training and testing sets (80% train, 20% test)"
   ]
  },
  {
   "cell_type": "code",
   "execution_count": 12,
   "id": "1c8c9174-5171-4f19-aa56-3c63619fcef1",
   "metadata": {},
   "outputs": [
    {
     "data": {
      "text/plain": [
       "((17973, 910), (4494, 910), (17973,), (4494,))"
      ]
     },
     "execution_count": 12,
     "metadata": {},
     "output_type": "execute_result"
    }
   ],
   "source": [
    "# Check the shape of the data\n",
    "X_train.shape, X_test.shape, y_train.shape, y_test.shape"
   ]
  },
  {
   "cell_type": "code",
   "execution_count": 13,
   "id": "114cd73c-50de-4210-b15d-f6f0d55a9e64",
   "metadata": {},
   "outputs": [],
   "source": [
    "import numpy as np\n",
    "from sklearn.metrics import precision_score, recall_score, f1_score, accuracy_score\n",
    "from sklearn.svm import SVC"
   ]
  },
  {
   "cell_type": "code",
   "execution_count": 14,
   "id": "b50faa24-0e61-4f78-8642-dcf17220c5f7",
   "metadata": {},
   "outputs": [],
   "source": [
    "# Define Crayfish Optimization Algorithm (COA) for hyperparameter tuning of SVM\n",
    "class CrayfishOptimization:\n",
    "    def __init__(self, population_size, max_iter, X_train, y_train, X_test, y_test):\n",
    "        self.population_size = population_size \n",
    "        self.max_iter = max_iter \n",
    "        self.X_train = X_train\n",
    "        self.y_train = y_train\n",
    "        self.X_test = X_test\n",
    "        self.y_test = y_test\n",
    "        self.population = self.initialize_population()\n",
    "\n",
    "    def initialize_population(self):\n",
    "        # Initialize random hyperparameters: C (1-100) and gamma (0.001-1) for SVM\n",
    "        return np.array([[np.random.uniform(1, 100), np.random.uniform(0.001, 1)] for _ in range(self.population_size)])\n",
    "\n",
    "    def fitness(self, params):\n",
    "        C, gamma = params\n",
    "        model = SVC(C=C, gamma=gamma, kernel=\"rbf\") \n",
    "        model.fit(self.X_train, self.y_train)\n",
    "        y_pred = model.predict(self.X_test)\n",
    "        return accuracy_score(self.y_test, y_pred) \n",
    "\n",
    "    def optimize(self):\n",
    "        best_solution = None\n",
    "        best_fitness = 0\n",
    "        for iteration in range(self.max_iter):\n",
    "            for i in range(self.population_size):\n",
    "                new_solution = self.population[i] + np.random.uniform(-1, 1, 2)  \n",
    "                new_solution = np.clip(new_solution, [1, 0.001], [100, 1])  \n",
    "                new_fitness = self.fitness(new_solution)\n",
    "\n",
    "                # Update the best solution if the new one is better\n",
    "                if new_fitness > best_fitness:\n",
    "                    best_fitness = new_fitness\n",
    "                    best_solution = new_solution\n",
    "\n",
    "            self.population += np.random.uniform(-0.5, 0.5, (self.population_size, 2))  \n",
    "\n",
    "        return best_solution\n"
   ]
  },
  {
   "cell_type": "code",
   "execution_count": 50,
   "id": "acf89b71-d7e8-497d-b6bb-3cc2b3641096",
   "metadata": {},
   "outputs": [],
   "source": [
    "# Select a sample from the dataset to improve efficiency\n",
    "sample_size = 1000\n",
    "if len(df) > sample_size:\n",
    "    df_sample = df.sample(n=sample_size, random_state=42)\n",
    "else:\n",
    "    df_sample = df\n"
   ]
  },
  {
   "cell_type": "code",
   "execution_count": 51,
   "id": "cd693143-c7f7-4c87-a98b-4a41f082d50d",
   "metadata": {},
   "outputs": [],
   "source": [
    "# Prepare the sampled dataset for training\n",
    "X_sample = vectorizer.transform(df_sample[\"Description\"]).toarray()\n",
    "y_sample = label_encoder.transform(df_sample[\"Reason\"])\n",
    "X_train, X_test, y_train, y_test = train_test_split(X_sample, y_sample, test_size=0.2, random_state=42)"
   ]
  },
  {
   "cell_type": "code",
   "execution_count": 52,
   "id": "6d2e1e7e-f78b-48f5-bdf5-966d817619e1",
   "metadata": {},
   "outputs": [],
   "source": [
    "# Run Crayfish Optimization Algorithm on the sampled data\n",
    "coa = CrayfishOptimization(population_size=5, max_iter=10, X_train=X_train, y_train=y_train, X_test=X_test, y_test=y_test)\n",
    "best_params = coa.optimize()"
   ]
  },
  {
   "cell_type": "code",
   "execution_count": 53,
   "id": "a245e7cb-d0f6-407c-a361-1457fd818049",
   "metadata": {},
   "outputs": [],
   "source": [
    "# Train the final SVM model with the best parameters\n",
    "best_C, best_gamma = best_params\n",
    "svm_model = SVC(C=best_C, gamma=best_gamma, kernel=\"rbf\")\n",
    "svm_model.fit(X_train, y_train)\n",
    "y_pred = svm_model.predict(X_test)"
   ]
  },
  {
   "cell_type": "code",
   "execution_count": 54,
   "id": "53b20a14-8dc8-4451-9fa5-d11a264d15f6",
   "metadata": {},
   "outputs": [],
   "source": [
    "# Calculate evaluation metrics in percentage form\n",
    "precision = precision_score(y_test, y_pred, average=\"weighted\",zero_division=1) * 100\n",
    "recall = recall_score(y_test, y_pred, average=\"weighted\") * 100\n",
    "f1 = f1_score(y_test, y_pred, average=\"weighted\") * 100\n",
    "accuracy = accuracy_score(y_test, y_pred) * 100"
   ]
  },
  {
   "cell_type": "code",
   "execution_count": 55,
   "id": "49b97e8f-a04b-4a61-8ace-868963ac1a11",
   "metadata": {},
   "outputs": [
    {
     "name": "stdout",
     "output_type": "stream",
     "text": [
      "{'Precision (%)': 97.29166666666666, 'Recall (%)': 96.5, 'F1-Score (%)': 95.29052628649355, 'Accuracy (%)': 96.5, 'Best C': np.float64(56.469786431290785), 'Best Gamma': np.float64(0.028619401541105538)}\n"
     ]
    }
   ],
   "source": [
    "# Display the final evaluation metrics\n",
    "metrics = {\n",
    "    \"Precision (%)\": precision,\n",
    "    \"Recall (%)\": recall,\n",
    "    \"F1-Score (%)\": f1,\n",
    "    \"Accuracy (%)\": accuracy,\n",
    "    \"Best C\": best_C,\n",
    "    \"Best Gamma\": best_gamma\n",
    "}\n",
    "\n",
    "print(metrics)"
   ]
  },
  {
   "cell_type": "code",
   "execution_count": null,
   "id": "0d2421ad-4e8a-46f2-b6e5-15c731cf5b9c",
   "metadata": {},
   "outputs": [],
   "source": []
  }
 ],
 "metadata": {
  "kernelspec": {
   "display_name": "Python 3 (ipykernel)",
   "language": "python",
   "name": "python3"
  },
  "language_info": {
   "codemirror_mode": {
    "name": "ipython",
    "version": 3
   },
   "file_extension": ".py",
   "mimetype": "text/x-python",
   "name": "python",
   "nbconvert_exporter": "python",
   "pygments_lexer": "ipython3",
   "version": "3.13.1"
  }
 },
 "nbformat": 4,
 "nbformat_minor": 5
}
