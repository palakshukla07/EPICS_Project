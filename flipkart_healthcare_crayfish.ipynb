{
 "cells": [
  {
   "cell_type": "code",
   "execution_count": 1,
   "id": "64142a08-b367-4abc-b7cf-3fb7625b2486",
   "metadata": {},
   "outputs": [],
   "source": [
    "import pandas as pd"
   ]
  },
  {
   "cell_type": "code",
   "execution_count": 2,
   "id": "4d90a7c5-7c7f-45eb-89a6-902cea74a0c1",
   "metadata": {},
   "outputs": [],
   "source": [
    "file_path = \"flipkart_healthcare.csv\"\n",
    "df = pd.read_csv(file_path)"
   ]
  },
  {
   "cell_type": "code",
   "execution_count": 3,
   "id": "a86cc216-4ddb-4b5f-8a6b-6ca3711eb55f",
   "metadata": {},
   "outputs": [
    {
     "name": "stdout",
     "output_type": "stream",
     "text": [
      "<class 'pandas.core.frame.DataFrame'>\n",
      "RangeIndex: 211 entries, 0 to 210\n",
      "Data columns (total 6 columns):\n",
      " #   Column         Non-Null Count  Dtype  \n",
      "---  ------         --------------  -----  \n",
      " 0   Name           211 non-null    object \n",
      " 1   Ratings        211 non-null    float64\n",
      " 2   no_ratings     211 non-null    int64  \n",
      " 3   Selling Price  211 non-null    object \n",
      " 4   MRP            211 non-null    object \n",
      " 5   Discount       211 non-null    int64  \n",
      "dtypes: float64(1), int64(2), object(3)\n",
      "memory usage: 10.0+ KB\n"
     ]
    },
    {
     "data": {
      "text/plain": [
       "(None,\n",
       "                                                 Name  Ratings  no_ratings  \\\n",
       " 0  MUSCLEBLAZE Super Gainer XXL Weight Gainers/Ma...      4.0      179795   \n",
       " 1  MUSCLEBLAZE Beginner's Whey Protein, No Added ...      4.2       60216   \n",
       " 2  WOW Life Science Omega-3 1000mg Capsules with ...      4.4       20868   \n",
       " 3  BIGMUSCLES NUTRITION Omega-3 Fish Oil Triple S...      4.3        8602   \n",
       " 4                MUSCLEBLAZE Beginner's Whey Protein      4.2       60216   \n",
       " \n",
       "   Selling Price    MRP  Discount  \n",
       " 0           893  1,719        48  \n",
       " 1         1,693  2,279        25  \n",
       " 2           749    899        16  \n",
       " 3           339    615        44  \n",
       " 4           749    849        11  )"
      ]
     },
     "execution_count": 3,
     "metadata": {},
     "output_type": "execute_result"
    }
   ],
   "source": [
    "# Display basic information about the dataset\n",
    "df.info(), df.head()"
   ]
  },
  {
   "cell_type": "code",
   "execution_count": 4,
   "id": "73a08e59-3bbe-4b58-913b-9e6e6d081d02",
   "metadata": {},
   "outputs": [],
   "source": [
    "import numpy as np"
   ]
  },
  {
   "cell_type": "code",
   "execution_count": 5,
   "id": "49328c8e-db39-4247-8af1-072a3a031389",
   "metadata": {},
   "outputs": [],
   "source": [
    "# Convert 'Selling Price' and 'MRP' to numeric by removing commas\n",
    "df[\"Selling Price\"] = df[\"Selling Price\"].str.replace(\",\", \"\").astype(float)\n",
    "df[\"MRP\"] = df[\"MRP\"].str.replace(\",\", \"\").astype(float)"
   ]
  },
  {
   "cell_type": "code",
   "execution_count": 6,
   "id": "d7813ace-c7ff-4381-a23b-e33dd9637f65",
   "metadata": {},
   "outputs": [],
   "source": [
    "# Creating a new feature: Price Difference (MRP - Selling Price)\n",
    "df[\"Price_Difference\"] = df[\"MRP\"] - df[\"Selling Price\"]"
   ]
  },
  {
   "cell_type": "code",
   "execution_count": 7,
   "id": "4b1badde-4676-40a6-b212-56f474366575",
   "metadata": {},
   "outputs": [],
   "source": [
    "# Creating a categorical target variable: High (1) if Discount > 20%, Low (0) otherwise\n",
    "df[\"Discount_Category\"] = np.where(df[\"Discount\"] > 20, 1, 0)"
   ]
  },
  {
   "cell_type": "code",
   "execution_count": 8,
   "id": "eeb43b8d-1c86-4406-b280-07c90fd433ed",
   "metadata": {},
   "outputs": [],
   "source": [
    "# Selecting relevant features for classification\n",
    "features = [\"Ratings\", \"no_ratings\", \"Price_Difference\", \"Discount\"]\n",
    "X = df[features]\n",
    "y = df[\"Discount_Category\"]"
   ]
  },
  {
   "cell_type": "code",
   "execution_count": 9,
   "id": "29478df3-1626-4040-9dba-f00c39de2a15",
   "metadata": {},
   "outputs": [],
   "source": [
    "from sklearn.preprocessing import StandardScaler\n",
    "from sklearn.model_selection import train_test_split"
   ]
  },
  {
   "cell_type": "code",
   "execution_count": 10,
   "id": "455dc29c-6248-4f91-9137-058a698ef86c",
   "metadata": {},
   "outputs": [],
   "source": [
    "# Normalize feature values for better optimization performance\n",
    "scaler = StandardScaler()\n",
    "X_scaled = scaler.fit_transform(X)"
   ]
  },
  {
   "cell_type": "code",
   "execution_count": 11,
   "id": "878c1735-293d-427d-a860-d2eca9cb798f",
   "metadata": {},
   "outputs": [],
   "source": [
    "# Splitting the dataset into training and testing sets\n",
    "X_train, X_test, y_train, y_test = train_test_split(X_scaled, y, test_size=0.2, random_state=42, stratify=y)"
   ]
  },
  {
   "cell_type": "code",
   "execution_count": 12,
   "id": "ca0475dd-e9e7-4b52-843b-6ac8dd9821a8",
   "metadata": {},
   "outputs": [
    {
     "data": {
      "text/plain": [
       "(Discount_Category\n",
       " 1    123\n",
       " 0     45\n",
       " Name: count, dtype: int64,\n",
       " Discount_Category\n",
       " 1    31\n",
       " 0    12\n",
       " Name: count, dtype: int64)"
      ]
     },
     "execution_count": 12,
     "metadata": {},
     "output_type": "execute_result"
    }
   ],
   "source": [
    "# Check class distribution after splitting\n",
    "y_train.value_counts(), y_test.value_counts()"
   ]
  },
  {
   "cell_type": "code",
   "execution_count": 13,
   "id": "db8b2900-43a5-420c-bc24-180339226811",
   "metadata": {},
   "outputs": [],
   "source": [
    "# Implementing Crayfish Optimization Algorithm (COA) for SVM hyperparameter tuning\n",
    "from sklearn.svm import SVC\n",
    "from sklearn.metrics import precision_score, recall_score, f1_score, accuracy_score"
   ]
  },
  {
   "cell_type": "code",
   "execution_count": 14,
   "id": "a4953424-3ec2-4386-82c2-43a773b5605b",
   "metadata": {},
   "outputs": [],
   "source": [
    "class CrayfishOptimization:\n",
    "    def __init__(self, population_size, max_iter, X_train, y_train, X_test, y_test):\n",
    "        self.population_size = population_size  \n",
    "        self.max_iter = max_iter  \n",
    "        self.X_train = X_train\n",
    "        self.y_train = y_train\n",
    "        self.X_test = X_test\n",
    "        self.y_test = y_test\n",
    "        self.population = self.initialize_population()\n",
    "\n",
    "    def initialize_population(self):\n",
    "        # Initialize random hyperparameters: C (1-50) and gamma (0.001-1) for SVM\n",
    "        return np.array([[np.random.uniform(1, 50), np.random.uniform(0.001, 1)] for _ in range(self.population_size)])\n",
    "\n",
    "    def fitness(self, params):\n",
    "        C, gamma = params\n",
    "        model = SVC(C=C, gamma=gamma, kernel=\"rbf\")  \n",
    "        model.fit(self.X_train, self.y_train)\n",
    "        y_pred = model.predict(self.X_test)\n",
    "        return accuracy_score(self.y_test, y_pred) \n",
    "\n",
    "    def optimize(self):\n",
    "        best_solution = None\n",
    "        best_fitness = 0\n",
    "        for iteration in range(self.max_iter):\n",
    "            for i in range(self.population_size):\n",
    "                new_solution = self.population[i] + np.random.uniform(-1, 1, 2)  \n",
    "                new_solution = np.clip(new_solution, [1, 0.001], [50, 1]) \n",
    "                new_fitness = self.fitness(new_solution)\n",
    "\n",
    "                # Update the best solution if the new one is better\n",
    "                if new_fitness > best_fitness:\n",
    "                    best_fitness = new_fitness\n",
    "                    best_solution = new_solution\n",
    "\n",
    "            self.population += np.random.uniform(-0.5, 0.5, (self.population_size, 2)) \n",
    "\n",
    "        return best_solution"
   ]
  },
  {
   "cell_type": "code",
   "execution_count": 15,
   "id": "412aaffc-bbb9-467a-9043-070f401d9347",
   "metadata": {},
   "outputs": [],
   "source": [
    "# Run Crayfish Optimization Algorithm\n",
    "coa = CrayfishOptimization(population_size=5, max_iter=10, X_train=X_train, y_train=y_train, X_test=X_test, y_test=y_test)\n",
    "best_params = coa.optimize()"
   ]
  },
  {
   "cell_type": "code",
   "execution_count": 16,
   "id": "88186d23-7e6b-4b2e-9d0d-eb90e44c8dcc",
   "metadata": {},
   "outputs": [],
   "source": [
    "# Train the final SVM model with the best parameters\n",
    "best_C, best_gamma = best_params\n",
    "svm_model = SVC(C=best_C, gamma=best_gamma, kernel=\"rbf\")\n",
    "svm_model.fit(X_train, y_train)\n",
    "y_pred = svm_model.predict(X_test)"
   ]
  },
  {
   "cell_type": "code",
   "execution_count": null,
   "id": "476a3c31-59cf-4399-a4c9-181833236c1e",
   "metadata": {},
   "outputs": [],
   "source": []
  }
 ],
 "metadata": {
  "kernelspec": {
   "display_name": "Python 3 (ipykernel)",
   "language": "python",
   "name": "python3"
  },
  "language_info": {
   "codemirror_mode": {
    "name": "ipython",
    "version": 3
   },
   "file_extension": ".py",
   "mimetype": "text/x-python",
   "name": "python",
   "nbconvert_exporter": "python",
   "pygments_lexer": "ipython3",
   "version": "3.13.1"
  }
 },
 "nbformat": 4,
 "nbformat_minor": 5
}
