{
 "cells": [
  {
   "cell_type": "code",
   "execution_count": 1,
   "id": "68474a0b",
   "metadata": {},
   "outputs": [
    {
     "name": "stdout",
     "output_type": "stream",
     "text": [
      "Requirement already satisfied: pandas in c:\\users\\sakha\\anaconda3\\lib\\site-packages (1.4.4)\n",
      "Requirement already satisfied: scikit-learn in c:\\users\\sakha\\anaconda3\\lib\\site-packages (1.0.2)\n",
      "Requirement already satisfied: numpy in c:\\users\\sakha\\anaconda3\\lib\\site-packages (1.21.5)\n",
      "Note: you may need to restart the kernel to use updated packages.\n"
     ]
    },
    {
     "name": "stderr",
     "output_type": "stream",
     "text": [
      "ERROR: Could not find a version that satisfies the requirement dandelion-optimization (from versions: none)\n",
      "ERROR: No matching distribution found for dandelion-optimization\n"
     ]
    }
   ],
   "source": [
    "pip install pandas scikit-learn numpy dandelion-optimization\n"
   ]
  },
  {
   "cell_type": "code",
   "execution_count": 2,
   "id": "c5c07b68",
   "metadata": {},
   "outputs": [
    {
     "name": "stdout",
     "output_type": "stream",
     "text": [
      "Requirement already satisfied: pandas in c:\\users\\sakha\\anaconda3\\lib\\site-packages (1.4.4)\n",
      "Requirement already satisfied: scikit-learn in c:\\users\\sakha\\anaconda3\\lib\\site-packages (1.0.2)\n",
      "Requirement already satisfied: numpy in c:\\users\\sakha\\anaconda3\\lib\\site-packages (1.21.5)\n",
      "Note: you may need to restart the kernel to use updated packages.\n"
     ]
    },
    {
     "name": "stderr",
     "output_type": "stream",
     "text": [
      "ERROR: Could not find a version that satisfies the requirement dandelion-optimization (from versions: none)\n",
      "ERROR: No matching distribution found for dandelion-optimization\n"
     ]
    }
   ],
   "source": [
    "pip install pandas scikit-learn numpy dandelion-optimization"
   ]
  },
  {
   "cell_type": "code",
   "execution_count": 3,
   "id": "078f323e",
   "metadata": {},
   "outputs": [
    {
     "name": "stdout",
     "output_type": "stream",
     "text": [
      "C:\\Users\\sakha\n"
     ]
    }
   ],
   "source": [
    "import os\n",
    "print(os.getcwd())"
   ]
  },
  {
   "cell_type": "code",
   "execution_count": 4,
   "id": "e8bc76ce",
   "metadata": {},
   "outputs": [
    {
     "name": "stdout",
     "output_type": "stream",
     "text": [
      "['.altera.sbt4e', '.bash_history', '.cache', '.conda', '.condarc', '.continuum', '.eclipse', '.gitconfig', '.ipynb_checkpoints', '.ipython', '.jupyter', '.lesshst', '.matplotlib', '.node_repl_history', '.p2', '.packettracer', '.viminfo', '.VirtualBox', '.vscode', 'anaconda3', 'AppData', 'Application Data', 'Applied Machine Learning in Python.ipynb', 'Cisco Packet Tracer 8.2.2', 'Coding.cpp', 'Contacts', 'Cookies', 'CSE-1021.ipynb', 'Dandelion_Optimizer.ipynb', 'Desktop', 'Documents', 'Downloads', 'eclipse', 'Favorites', 'hsKfLshPLQ9', 'IntelGraphicsProfiles', 'Lab Activity - 1.ipynb', 'Lab Activity - 2.ipynb', 'Lab Activity 1.ipynb', 'Links', 'Local Settings', 'Medicine_description.csv', 'Music', 'My Documents', 'NetHood', 'NPProt.bkp', 'NPProt.exe', 'NTUSER.DAT', 'ntuser.dat.LOG1', 'ntuser.dat.LOG2', 'NTUSER.DAT{67913727-e4a2-11ef-ae27-cb194df4ebc5}.TxR.0.regtrans-ms', 'NTUSER.DAT{67913727-e4a2-11ef-ae27-cb194df4ebc5}.TxR.1.regtrans-ms', 'NTUSER.DAT{67913727-e4a2-11ef-ae27-cb194df4ebc5}.TxR.2.regtrans-ms', 'NTUSER.DAT{67913727-e4a2-11ef-ae27-cb194df4ebc5}.TxR.blf', 'NTUSER.DAT{67913728-e4a2-11ef-ae27-cb194df4ebc5}.TM.blf', 'NTUSER.DAT{67913728-e4a2-11ef-ae27-cb194df4ebc5}.TMContainer00000000000000000001.regtrans-ms', 'NTUSER.DAT{67913728-e4a2-11ef-ae27-cb194df4ebc5}.TMContainer00000000000000000002.regtrans-ms', 'ntuser.ini', 'OneDrive', 'OneDrive - vitbhopal.ac.in', 'Pictures', 'practical acticity.ipynb', 'Practical Activity.ipynb', 'PrintHood', 'Python Coding basics.ipynb', 'Python programming .ipynb', 'quartus2.qreg', 'quartus_full_rules_file.txt', 'Recent', 'Revision for activity .ipynb', 'Saved Games', 'Searches', 'SendTo', 'Start Menu', 'Templates', 'Tutorial 2.ipynb', 'Untitled.ipynb', 'Videos', 'VirtualBox VMs']\n"
     ]
    }
   ],
   "source": [
    "import os\n",
    "print(os.listdir())"
   ]
  },
  {
   "cell_type": "code",
   "execution_count": 5,
   "id": "77fcbf25",
   "metadata": {},
   "outputs": [],
   "source": [
    "import numpy as np\n",
    "import pandas as pd\n",
    "from sklearn.model_selection import train_test_split\n",
    "from sklearn.feature_extraction.text import TfidfVectorizer\n",
    "from sklearn.ensemble import RandomForestClassifier\n",
    "from sklearn.metrics import accuracy_score, precision_score, recall_score, f1_score, mean_squared_error"
   ]
  },
  {
   "cell_type": "code",
   "execution_count": 6,
   "id": "4716dcf6",
   "metadata": {},
   "outputs": [
    {
     "data": {
      "text/html": [
       "<div>\n",
       "<style scoped>\n",
       "    .dataframe tbody tr th:only-of-type {\n",
       "        vertical-align: middle;\n",
       "    }\n",
       "\n",
       "    .dataframe tbody tr th {\n",
       "        vertical-align: top;\n",
       "    }\n",
       "\n",
       "    .dataframe thead th {\n",
       "        text-align: right;\n",
       "    }\n",
       "</style>\n",
       "<table border=\"1\" class=\"dataframe\">\n",
       "  <thead>\n",
       "    <tr style=\"text-align: right;\">\n",
       "      <th></th>\n",
       "      <th>Drug_Name</th>\n",
       "      <th>Reason</th>\n",
       "      <th>Description</th>\n",
       "    </tr>\n",
       "  </thead>\n",
       "  <tbody>\n",
       "    <tr>\n",
       "      <th>0</th>\n",
       "      <td>A CN Gel(Topical) 20gmA CN Soap 75gm</td>\n",
       "      <td>Acne</td>\n",
       "      <td>Mild to moderate acne (spots)</td>\n",
       "    </tr>\n",
       "    <tr>\n",
       "      <th>1</th>\n",
       "      <td>A Ret 0.05% Gel 20gmA Ret 0.1% Gel 20gmA Ret 0...</td>\n",
       "      <td>Acne</td>\n",
       "      <td>A RET 0.025% is a prescription medicine that i...</td>\n",
       "    </tr>\n",
       "    <tr>\n",
       "      <th>2</th>\n",
       "      <td>ACGEL CL NANO Gel 15gm</td>\n",
       "      <td>Acne</td>\n",
       "      <td>It is used to treat acne vulgaris in people 12...</td>\n",
       "    </tr>\n",
       "    <tr>\n",
       "      <th>3</th>\n",
       "      <td>ACGEL NANO Gel 15gm</td>\n",
       "      <td>Acne</td>\n",
       "      <td>It is used to treat acne vulgaris in people 12...</td>\n",
       "    </tr>\n",
       "    <tr>\n",
       "      <th>4</th>\n",
       "      <td>Acleen 1% Lotion 25ml</td>\n",
       "      <td>Acne</td>\n",
       "      <td>treat the most severe form of acne (nodular ac...</td>\n",
       "    </tr>\n",
       "  </tbody>\n",
       "</table>\n",
       "</div>"
      ],
      "text/plain": [
       "                                           Drug_Name Reason  \\\n",
       "0               A CN Gel(Topical) 20gmA CN Soap 75gm   Acne   \n",
       "1  A Ret 0.05% Gel 20gmA Ret 0.1% Gel 20gmA Ret 0...   Acne   \n",
       "2                             ACGEL CL NANO Gel 15gm   Acne   \n",
       "3                                ACGEL NANO Gel 15gm   Acne   \n",
       "4                              Acleen 1% Lotion 25ml   Acne   \n",
       "\n",
       "                                         Description  \n",
       "0                      Mild to moderate acne (spots)  \n",
       "1  A RET 0.025% is a prescription medicine that i...  \n",
       "2  It is used to treat acne vulgaris in people 12...  \n",
       "3  It is used to treat acne vulgaris in people 12...  \n",
       "4  treat the most severe form of acne (nodular ac...  "
      ]
     },
     "execution_count": 6,
     "metadata": {},
     "output_type": "execute_result"
    }
   ],
   "source": [
    "# Load Dataset\n",
    "data  = pd.read_csv(\"Medicine_description.csv\")\n",
    "\n",
    "# Show the first few rows\n",
    "data .head()"
   ]
  },
  {
   "cell_type": "code",
   "execution_count": 7,
   "id": "54cc40f1",
   "metadata": {},
   "outputs": [
    {
     "name": "stdout",
     "output_type": "stream",
     "text": [
      "Index(['Drug_Name', 'Reason', 'Description'], dtype='object')\n"
     ]
    }
   ],
   "source": [
    "print(data.columns)"
   ]
  },
  {
   "cell_type": "code",
   "execution_count": 8,
   "id": "362e39f0",
   "metadata": {},
   "outputs": [],
   "source": [
    "# Data Preprocessing\n",
    "data.dropna(inplace=True)  # Remove missing values\n",
    "vectorizer = TfidfVectorizer()\n",
    "X = vectorizer.fit_transform(data['Description']).toarray()\n",
    "y = data['Reason'].astype('category').cat.codes  # Convert target to numeric"
   ]
  },
  {
   "cell_type": "code",
   "execution_count": 9,
   "id": "a5a574be",
   "metadata": {},
   "outputs": [],
   "source": [
    "# Train-Test Split\n",
    "X_train, X_test, y_train, y_test = train_test_split(X, y, test_size=0.2, random_state=42)"
   ]
  },
  {
   "cell_type": "code",
   "execution_count": 10,
   "id": "cf085382",
   "metadata": {},
   "outputs": [],
   "source": [
    "# Dandelion Optimizer (DO) Implementation\n",
    "class DandelionOptimizer:\n",
    "    def __init__(self, pop_size, max_iter, dim, fitness_function):\n",
    "        self.pop_size = pop_size\n",
    "        self.max_iter = max_iter\n",
    "        self.dim = dim\n",
    "        self.fitness_function = fitness_function\n",
    "        self.population = np.random.rand(pop_size, dim)\n",
    "        self.best_solution = None\n",
    "        self.best_fitness = float('inf')\n",
    "    \n",
    "    def optimize(self):\n",
    "        for t in range(self.max_iter):\n",
    "            fitness_values = np.array([self.fitness_function(ind) for ind in self.population])\n",
    "            elite_index = np.argmin(fitness_values)\n",
    "            X_elite = self.population[elite_index]\n",
    "            \n",
    "            for i in range(self.pop_size):\n",
    "                if np.random.rand() < 0.5:\n",
    "                    alpha = np.random.rand() * ((1 / self.max_iter**2) * t**2 - (2 / self.max_iter) * t + 1)\n",
    "                    self.population[i] = self.population[i] + alpha * np.random.randn(self.dim)\n",
    "                else:\n",
    "                    k = 1 - np.random.rand() * (1 / (self.max_iter**2 - 2 * self.max_iter + 1) * t**2 - (2 / (self.max_iter**2 - 2 * self.max_iter + 1)) * t + 1)\n",
    "                    self.population[i] = self.population[i] * k\n",
    "                \n",
    "            self.population = np.clip(self.population, 0, 1)  # Keep within bounds\n",
    "            \n",
    "            if fitness_values[elite_index] < self.best_fitness:\n",
    "                self.best_solution = X_elite\n",
    "                self.best_fitness = fitness_values[elite_index]\n",
    "        \n",
    "        return self.best_solution, self.best_fitness\n"
   ]
  },
  {
   "cell_type": "code",
   "execution_count": 11,
   "id": "876433e4",
   "metadata": {},
   "outputs": [],
   "source": [
    "# Fitness Function (Random Forest Accuracy)\n",
    "def fitness_function(params):\n",
    "    n_estimators = int(params[0] * 200) + 1\n",
    "    max_depth = int(params[1] * 20) + 1\n",
    "    model = RandomForestClassifier(n_estimators=n_estimators, max_depth=max_depth, random_state=42)\n",
    "    model.fit(X_train, y_train)\n",
    "    preds = model.predict(X_test)\n",
    "    return -accuracy_score(y_test, preds)  # Negative for minimization\n"
   ]
  },
  {
   "cell_type": "code",
   "execution_count": 13,
   "id": "59b772e1",
   "metadata": {},
   "outputs": [
    {
     "name": "stdout",
     "output_type": "stream",
     "text": [
      "Starting Optimization...\n",
      "Optimization Finished. Best Parameters: [0.08020142 0.32865051], Best Fitness: -0.8796172674677347\n"
     ]
    }
   ],
   "source": [
    "# Run Optimization\n",
    "\n",
    "print(\"Starting Optimization...\")\n",
    "do = DandelionOptimizer(pop_size=10, max_iter=20, dim=2, fitness_function=fitness_function)\n",
    "best_params, best_fitness = do.optimize()\n",
    "print(f\"Optimization Finished. Best Parameters: {best_params}, Best Fitness: {best_fitness}\")\n"
   ]
  },
  {
   "cell_type": "code",
   "execution_count": 16,
   "id": "fb7d6a16",
   "metadata": {},
   "outputs": [],
   "source": [
    "# Train Optimized Model\n",
    "rf_optimized = RandomForestClassifier(n_estimators=int(best_params[0] * 200) + 1,\n",
    "                                      max_depth=int(best_params[1] * 20) + 1,\n",
    "                                      random_state=42)\n",
    "rf_optimized.fit(X_train, y_train)\n",
    "y_pred = rf_optimized.predict(X_test)"
   ]
  },
  {
   "cell_type": "code",
   "execution_count": 17,
   "id": "6c5c02be",
   "metadata": {},
   "outputs": [],
   "source": [
    "rf_optimized = RandomForestClassifier(n_estimators=int(best_params[0] * 200) + 1,\n",
    "                                      max_depth=int(best_params[1] * 20) + 1,\n",
    "                                      random_state=42,\n",
    "                                      class_weight='balanced')"
   ]
  },
  {
   "cell_type": "code",
   "execution_count": 18,
   "id": "ffd6a9fb",
   "metadata": {},
   "outputs": [],
   "source": [
    "precision = precision_score(y_test, y_pred, average='weighted', zero_division=1)\n"
   ]
  },
  {
   "cell_type": "code",
   "execution_count": 19,
   "id": "c274d80e",
   "metadata": {},
   "outputs": [
    {
     "name": "stdout",
     "output_type": "stream",
     "text": [
      "Accuracy: 0.6451\n",
      "Precision: 0.6167\n",
      "Recall: 0.6451\n",
      "F1-score: 0.5885\n",
      "MSE: 8.6611\n",
      "RMSE: 2.9430\n"
     ]
    },
    {
     "name": "stderr",
     "output_type": "stream",
     "text": [
      "C:\\Users\\sakha\\anaconda3\\lib\\site-packages\\sklearn\\metrics\\_classification.py:1318: UndefinedMetricWarning: Precision is ill-defined and being set to 0.0 in labels with no predicted samples. Use `zero_division` parameter to control this behavior.\n",
      "  _warn_prf(average, modifier, msg_start, len(result))\n"
     ]
    }
   ],
   "source": [
    "# Evaluation Metrics\n",
    "accuracy = accuracy_score(y_test, y_pred)\n",
    "precision = precision_score(y_test, y_pred, average='weighted')\n",
    "recall = recall_score(y_test, y_pred, average='weighted')\n",
    "f1 = f1_score(y_test, y_pred, average='weighted')\n",
    "mse = mean_squared_error(y_test, y_pred)\n",
    "rmse = np.sqrt(mse)\n",
    "\n",
    "# Print Results\n",
    "print(f'Accuracy: {accuracy:.4f}')\n",
    "print(f'Precision: {precision:.4f}')\n",
    "print(f'Recall: {recall:.4f}')\n",
    "print(f'F1-score: {f1:.4f}')\n",
    "print(f'MSE: {mse:.4f}')\n",
    "print(f'RMSE: {rmse:.4f}')\n"
   ]
  },
  {
   "cell_type": "code",
   "execution_count": null,
   "id": "f4b36109",
   "metadata": {},
   "outputs": [],
   "source": []
  }
 ],
 "metadata": {
  "kernelspec": {
   "display_name": "Python 3 (ipykernel)",
   "language": "python",
   "name": "python3"
  },
  "language_info": {
   "codemirror_mode": {
    "name": "ipython",
    "version": 3
   },
   "file_extension": ".py",
   "mimetype": "text/x-python",
   "name": "python",
   "nbconvert_exporter": "python",
   "pygments_lexer": "ipython3",
   "version": "3.9.13"
  }
 },
 "nbformat": 4,
 "nbformat_minor": 5
}
